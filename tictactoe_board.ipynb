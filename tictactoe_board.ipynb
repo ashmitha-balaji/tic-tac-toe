{
 "cells": [
  {
   "cell_type": "code",
   "execution_count": 8,
   "id": "129c7718",
   "metadata": {},
   "outputs": [],
   "source": [
    "#create display fn to initilizie the board  -> DONE\n",
    "#create a fn to get user input and to check if the given i/p is within choice -> DONE\n",
    "#create a fn to get player  marker position i/p and place it on board\n",
    "# check game result and ask to continue playing\n",
    "# 1) write fn to check if board full (game Tie) -> true or false\n",
    "# 2) write fn to check if strike (game win) -> true or false\n",
    "     #how to calculate a strike : 1) 3 consecutive no's\n",
    "#                                 2) for every 3rd number\n",
    "#                                 3) for every 4th num"
   ]
  },
  {
   "cell_type": "code",
   "execution_count": 9,
   "id": "721ff0a6",
   "metadata": {},
   "outputs": [],
   "source": [
    "def display_board(board):\n",
    "    \n",
    "    print(board[1]+'|'+board[2]+'|'+board[3])\n",
    "    print(board[4]+'|'+board[5]+'|'+board[6])\n",
    "    print(board[7]+'|'+board[8]+'|'+board[9])\n",
    "    "
   ]
  },
  {
   "cell_type": "code",
   "execution_count": 10,
   "id": "9098817a",
   "metadata": {},
   "outputs": [],
   "source": [
    "def player_marker_input():\n",
    "    marker = ''\n",
    "    \n",
    "    while marker != 'X' and marker != 'O':\n",
    "        marker = input('Player1, choose X or O :')\n",
    "        \n",
    "        if marker not in ['X','O']:\n",
    "            print(\"sorry, choose again\")\n",
    "        player1_marker = marker\n",
    "    \n",
    "    if player1_marker == 'X':\n",
    "        player2_marker = 'O'\n",
    "        print('Player2, will be O')\n",
    "    else:\n",
    "        player2_marker = 'X'\n",
    "        print('Player2 will be X')\n",
    "        \n",
    "    return player1_marker, player2_marker\n",
    "        "
   ]
  },
  {
   "cell_type": "code",
   "execution_count": 11,
   "id": "2de6b91d",
   "metadata": {},
   "outputs": [],
   "source": [
    "def begin_game(tictactoe_board):\n",
    "    player1_marker, player2_marker = player_marker_input()\n",
    "    position = ''\n",
    "    while position not in range(1,10):\n",
    "        if marker_position(tictactoe_board, player1_marker, \"Player 1\"):\n",
    "            return\n",
    "        if marker_position(tictactoe_board, player2_marker, \"Player 2\"):\n",
    "            return\n",
    "    \n",
    "        "
   ]
  },
  {
   "cell_type": "code",
   "execution_count": 12,
   "id": "c6149e51",
   "metadata": {},
   "outputs": [],
   "source": [
    "def marker_position(tictactoe_board,player_marker,player):\n",
    "    \n",
    "    \n",
    "    player_position = int(input('{} enter any position b/w 1 and 9: '.format(player)))\n",
    "        \n",
    "    if player_position in range(1,10):\n",
    "        tictactoe_board[player_position] = player_marker\n",
    "        display_board(tictactoe_board)\n",
    "    else:\n",
    "        print('not a valid entry. Try Again.')\n",
    "\n",
    "    # check for strike  or check for game draw, then break\n",
    "    if check_strike(tictactoe_board,player_marker):\n",
    "        print('CONGRATS!!YOU WON.')\n",
    "        return True\n",
    "\n",
    "    elif check_draw(tictactoe_board):\n",
    "        print('Game DRAW.')\n",
    "        return True\n",
    "    else:\n",
    "        print('continue playing')\n",
    "               "
   ]
  },
  {
   "cell_type": "code",
   "execution_count": 13,
   "id": "af4a0222",
   "metadata": {},
   "outputs": [],
   "source": [
    "def check_strike(board, mark):\n",
    "    \n",
    "    return ((board[7] == mark and board[8] == mark and board[9] == mark) or \n",
    "            (board[4] == mark and board[5] == mark and board[6] == mark) or \n",
    "            (board[1] == mark and board[2] == mark and board[3] == mark) or \n",
    "            (board[7] == mark and board[4] == mark and board[1] == mark) or\n",
    "            (board[8] == mark and board[5] == mark and board[2] == mark) or \n",
    "            (board[9] == mark and board[6] == mark and board[3] == mark) or \n",
    "            (board[7] == mark and board[5] == mark and board[3] == mark) or \n",
    "            (board[9] == mark and board[5] == mark and board[1] == mark)) \n",
    "\n",
    "        "
   ]
  },
  {
   "cell_type": "code",
   "execution_count": 14,
   "id": "bbcb9c65",
   "metadata": {},
   "outputs": [],
   "source": [
    "def check_draw(board):\n",
    "    for index in range(1, len(board)):\n",
    "        if board[index] == ' ':\n",
    "            return False\n",
    "  \n",
    "    else:\n",
    "        return True\n",
    "            "
   ]
  },
  {
   "cell_type": "code",
   "execution_count": 15,
   "id": "d3bb339b",
   "metadata": {},
   "outputs": [
    {
     "name": "stdout",
     "output_type": "stream",
     "text": [
      "Welcome to Tic Tac Toe!\n",
      " | | \n",
      " | | \n",
      " | | \n",
      "Player1, choose X or O :X\n",
      "Player2, will be O\n",
      "Player 1 enter any position b/w 1 and 9: 4\n",
      " | | \n",
      "X| | \n",
      " | | \n",
      "continue playing\n",
      "Player 2 enter any position b/w 1 and 9: 1\n",
      "O| | \n",
      "X| | \n",
      " | | \n",
      "continue playing\n",
      "Player 1 enter any position b/w 1 and 9: 6\n",
      "O| | \n",
      "X| |X\n",
      " | | \n",
      "continue playing\n",
      "Player 2 enter any position b/w 1 and 9: 2\n",
      "O|O| \n",
      "X| |X\n",
      " | | \n",
      "continue playing\n",
      "Player 1 enter any position b/w 1 and 9: 5\n",
      "O|O| \n",
      "X|X|X\n",
      " | | \n",
      "CONGRATS!!YOU WON.\n"
     ]
    }
   ],
   "source": [
    "# Initializer\n",
    "print('Welcome to Tic Tac Toe!')\n",
    "tictactoe_board = ['#', ' ', ' ', ' ', ' ', ' ', ' ', ' ', ' ', ' ']\n",
    "\n",
    "display_board(tictactoe_board)\n",
    "begin_game(tictactoe_board)"
   ]
  },
  {
   "cell_type": "code",
   "execution_count": null,
   "id": "e39572e8",
   "metadata": {},
   "outputs": [],
   "source": []
  }
 ],
 "metadata": {
  "kernelspec": {
   "display_name": "Python 3 (ipykernel)",
   "language": "python",
   "name": "python3"
  },
  "language_info": {
   "codemirror_mode": {
    "name": "ipython",
    "version": 3
   },
   "file_extension": ".py",
   "mimetype": "text/x-python",
   "name": "python",
   "nbconvert_exporter": "python",
   "pygments_lexer": "ipython3",
   "version": "3.10.9"
  }
 },
 "nbformat": 4,
 "nbformat_minor": 5
}
